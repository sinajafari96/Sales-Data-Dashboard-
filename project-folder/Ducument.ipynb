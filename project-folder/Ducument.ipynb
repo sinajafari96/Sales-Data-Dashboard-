{
 "cells": [
  {
   "cell_type": "markdown",
   "id": "be91ad51",
   "metadata": {},
   "source": [
    "# Power BI Sales Data Dashboard Project"
   ]
  },
  {
   "cell_type": "markdown",
   "id": "0c2037df",
   "metadata": {},
   "source": [
    "This project demonstrates my end-to-end skills in data engineering, data preprocessing, and dashboard creation using **Python, PostgreSQL, and Power BI**. The goal was to prepare a clean, relational dataset suitable for business intelligence use cases, and build an interactive sales dashboard.\n",
    "\n",
    "---\n"
   ]
  },
  {
   "cell_type": "markdown",
   "id": "f1a7b2e1",
   "metadata": {},
   "source": [
    "## Objective"
   ]
  },
  {
   "cell_type": "markdown",
   "id": "e6f71d74",
   "metadata": {},
   "source": [
    "- Showcase my ability to handle large datasets\n",
    "- Apply **ETL** (Extract, Transform, Load) techniques using Python\n",
    "- Design and normalize a **relational schema** (star schema)\n",
    "- Use **PostgreSQL** as a data warehouse environment\n",
    "- Develop a professional Power BI dashboard using best practices\n",
    "- Make the dashboard usable even without direct database access\n",
    "\n",
    "---\n"
   ]
  },
  {
   "cell_type": "markdown",
   "id": "6346c845",
   "metadata": {},
   "source": [
    "## Step 1: ETL with Python"
   ]
  },
  {
   "cell_type": "markdown",
   "id": "0eed3e3c",
   "metadata": {},
   "source": [
    "The raw dataset was initially loaded into a single large dataframe called `Sales_dataframe`. Using Python (primarily pandas), I performed the following steps:\n",
    "\n",
    "- **Extracted** data from the source file\n",
    "- **Transformed** it by cleaning, formatting, and structuring the content\n",
    "- **Loaded** it into relational tables\n",
    "\n",
    "---\n"
   ]
  },
  {
   "cell_type": "markdown",
   "id": "9c10cc68",
   "metadata": {},
   "source": [
    "## Step 2: Dimensional Modeling (Star Schema)\n"
   ]
  },
  {
   "cell_type": "markdown",
   "id": "28a72cf6",
   "metadata": {},
   "source": [
    "To improve performance and reduce redundancy, I separated the large `Sales_dataframe` into:\n",
    "\n",
    "- **Fact Table**:\n",
    "  - `sales_data`\n",
    "  - `return_data`\n",
    "- **Dimension Tables**:\n",
    "  - `customers`\n",
    "  - `products`\n",
    "  - `products_category`\n",
    "  - `products_subcategory`\n",
    "  - `calender`\n",
    "  - `regions`\n",
    "\n",
    "This approach allows Power BI to use relationships instead of repeated joins or merges, improving performance for large datasets.\n",
    "\n",
    "---"
   ]
  },
  {
   "cell_type": "markdown",
   "id": "cee5e963",
   "metadata": {},
   "source": [
    "## Step 3: Data Cleaning & Preprocessing\n"
   ]
  },
  {
   "cell_type": "markdown",
   "id": "e2a2a0d4",
   "metadata": {},
   "source": [
    "Before importing the data into the database, I performed:\n",
    "\n",
    "- Null value handling\n",
    "- Column renaming for clarity\n",
    "- Data type optimization\n",
    "- Date parsing and formatting\n",
    "- Deduplication in dimension tables\n",
    "- et cetera\n",
    "\n",
    "---"
   ]
  },
  {
   "cell_type": "markdown",
   "id": "8b5b7eef",
   "metadata": {},
   "source": [
    "## Step 4: PostgreSQL Database Integration\n"
   ]
  },
  {
   "cell_type": "markdown",
   "id": "a3cd91a0",
   "metadata": {},
   "source": [
    "To demonstrate my ability to work with databases:\n",
    "\n",
    "- I created a **PostgreSQL** database and imported the fact and dimension tables.\n",
    "- This step shows real-world experience with loading BI-ready data into relational databases.\n",
    "\n",
    "📌 **Note:** In the final Power BI report, I did **not connect directly to the database**. Instead, I exported the tables to files in a `/tables` folder so others can reuse or modify them.\n",
    "\n",
    "---"
   ]
  },
  {
   "cell_type": "markdown",
   "id": "694b7b83",
   "metadata": {},
   "source": [
    "## Step 5: Power BI Dashboard Creation\n"
   ]
  },
  {
   "cell_type": "markdown",
   "id": "ef264537",
   "metadata": {},
   "source": [
    "In Power BI:\n",
    "\n",
    "- I imported the data tables from the `tables` folder (not the database).\n",
    "- Performed **light transformations** using **Power Query**.\n",
    "- Defined relationships between the fact and dimension tables.\n",
    "- Built an **interactive sales dashboard** with charts, filters, and KPIs.\n",
    "\n",
    "---"
   ]
  },
  {
   "cell_type": "markdown",
   "id": "6033d344",
   "metadata": {},
   "source": [
    "## Why Use Local Tables Instead of Database Connection?\n"
   ]
  },
  {
   "cell_type": "markdown",
   "id": "55ddd41f",
   "metadata": {},
   "source": [
    "I chose not to connect Power BI to my PostgreSQL database directly because:\n",
    "\n",
    "- It makes the project **portable** for others who don’t have access to my server or credentials.\n",
    "- Users can **load the data themselves** from the `/tables` folder.\n",
    "- This approach improves the **reusability and shareability** of the dashboard without compromising database skills.\n",
    "\n",
    "---"
   ]
  },
  {
   "cell_type": "markdown",
   "id": "8320a800",
   "metadata": {},
   "source": [
    "## Skills Demonstrated\n"
   ]
  },
  {
   "cell_type": "markdown",
   "id": "f3e834e9",
   "metadata": {},
   "source": [
    "- Python (pandas, ETL, data transformation)\n",
    "- Database design (relational modeling, PostgreSQL)\n",
    "- Power BI (Power Query, DAX, visual design)\n",
    "- Data communication and self-documentation\n",
    "\n",
    "---"
   ]
  },
  {
   "cell_type": "markdown",
   "id": "56fc777e",
   "metadata": {},
   "source": [
    "## Project Structure\n"
   ]
  },
  {
   "cell_type": "markdown",
   "id": "008cdef1",
   "metadata": {},
   "source": [
    "```plaintext\n",
    "project-folder/\n",
    "│\n",
    "├── etl_script.ipynb            # Jupyter notebook for ETL and processing\n",
    "├── ducument.ipynb              # Project description\n",
    "├── tables/                     # Folder with CSV or Excel versions of each table\n",
    "│   ├── sales_data.csv\n",
    "│   ├── customers.csv\n",
    "│   ├── products.csv\n",
    "│   └── ...\n",
    "└── Sales_Data_dashboard.pbix      # Final Power BI file\n",
    " "
   ]
  },
  {
   "cell_type": "markdown",
   "id": "1c938011",
   "metadata": {},
   "source": []
  }
 ],
 "metadata": {
  "language_info": {
   "name": "python"
  }
 },
 "nbformat": 4,
 "nbformat_minor": 5
}
